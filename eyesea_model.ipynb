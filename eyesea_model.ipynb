{
 "cells": [
  {
   "cell_type": "markdown",
   "metadata": {},
   "source": [
    "# Run Eyesea Image Classification Model on Test Data"
   ]
  },
  {
   "cell_type": "markdown",
   "metadata": {},
   "source": [
    "## Pre-requisites and Setup\n",
    "Setup a python environment using pyenv and python version > 3.7.5\n",
    "\n",
    "Set up a virtual environment using [pyenv](https://github.com/pyenv/pyenv#getting-pyenv) using the python version [installed](https://github.com/pyenv/pyenv#install-additional-python-versions)."
   ]
  },
  {
   "cell_type": "code",
   "execution_count": null,
   "metadata": {},
   "outputs": [],
   "source": [
    "# Install dependencies\n",
    "!pip install tensorflow\n",
    "!pip install pillow\n",
    "!pip install numpy\n",
    "!pip install opencv-python"
   ]
  },
  {
   "cell_type": "markdown",
   "metadata": {},
   "source": [
    "# Load your model, and test data"
   ]
  },
  {
   "cell_type": "code",
   "execution_count": null,
   "metadata": {},
   "outputs": [],
   "source": [
    "import tkinter\n",
    "from tkinter import filedialog\n",
    "\n",
    "root = tkinter.Tk()\n",
    "root.withdraw() # prevents an empty tkinter window from appearing\n",
    "\n",
    "model_file = filedialog.askopenfile(title=\"Select model.pb file\").name\n",
    "labels_file = filedialog.askopenfile(title=\"Select labels.txt file\").name\n",
    "# ask for test images folder\n",
    "images_folder = filedialog.askdirectory(title=\"Select test images folder\")\n",
    "\n",
    "print(\"Model File: \" + model_file)\n",
    "print(\"Labels File: \" + labels_file)\n",
    "print(\"Test Images File: \" + images_folder)\n",
    "root.destroy()\n"
   ]
  },
  {
   "cell_type": "code",
   "execution_count": null,
   "metadata": {},
   "outputs": [],
   "source": [
    "import tensorflow as tf\n",
    "import os\n",
    "\n",
    "graph_def = tf.compat.v1.GraphDef()\n",
    "labels = []\n",
    "\n",
    "# These are set to the default names from exported models, update as needed.\n",
    "model_filename = model_file\n",
    "labels_filename = labels_file\n",
    "\n",
    "# Import the TF graph\n",
    "with tf.io.gfile.GFile(model_filename, 'rb') as f:\n",
    "    graph_def.ParseFromString(f.read())\n",
    "    tf.import_graph_def(graph_def, name='')\n",
    "\n",
    "# Create a list of labels.e\n",
    "with open(labels_filename, 'rt') as lf:\n",
    "    for l in lf:\n",
    "        labels.append(l.strip())"
   ]
  },
  {
   "cell_type": "markdown",
   "metadata": {},
   "source": [
    "# Prepare Image for prediction "
   ]
  },
  {
   "cell_type": "code",
   "execution_count": null,
   "metadata": {},
   "outputs": [],
   "source": [
    "# Helper functions for Eyesea model\n",
    "import numpy as np\n",
    "import cv2\n",
    "from PIL import Image\n",
    "\n",
    "def convert_to_opencv(image):\n",
    "    # RGB -> BGR conversion is performed as well.\n",
    "    image = image.convert('RGB')\n",
    "    r,g,b = np.array(image).T\n",
    "    opencv_image = np.array([b,g,r]).transpose()\n",
    "    return opencv_image\n",
    "\n",
    "def crop_center(img,cropx,cropy):\n",
    "    h, w = img.shape[:2]\n",
    "    startx = w//2-(cropx//2)\n",
    "    starty = h//2-(cropy//2)\n",
    "    return img[starty:starty+cropy, startx:startx+cropx]\n",
    "\n",
    "def resize_down_to_1600_max_dim(image):\n",
    "    h, w = image.shape[:2]\n",
    "    if (h < 1600 and w < 1600):\n",
    "        return image\n",
    "\n",
    "    new_size = (1600 * w // h, 1600) if (h > w) else (1600, 1600 * h // w)\n",
    "    return cv2.resize(image, new_size, interpolation = cv2.INTER_LINEAR)\n",
    "\n",
    "def resize_to_256_square(image):\n",
    "    h, w = image.shape[:2]\n",
    "    return cv2.resize(image, (256, 256), interpolation = cv2.INTER_LINEAR)\n",
    "\n",
    "def update_orientation(image):\n",
    "    exif_orientation_tag = 0x0112\n",
    "    if hasattr(image, '_getexif'):\n",
    "        exif = image._getexif()\n",
    "        if (exif != None and exif_orientation_tag in exif):\n",
    "            orientation = exif.get(exif_orientation_tag, 1)\n",
    "            # orientation is 1 based, shift to zero based and flip/transpose based on 0-based values\n",
    "            orientation -= 1\n",
    "            if orientation >= 4:\n",
    "                image = image.transpose(Image.TRANSPOSE)\n",
    "            if orientation == 2 or orientation == 3 or orientation == 6 or orientation == 7:\n",
    "                image = image.transpose(Image.FLIP_TOP_BOTTOM)\n",
    "            if orientation == 1 or orientation == 2 or orientation == 5 or orientation == 6:\n",
    "                image = image.transpose(Image.FLIP_LEFT_RIGHT)\n",
    "    return image"
   ]
  },
  {
   "cell_type": "code",
   "execution_count": null,
   "metadata": {},
   "outputs": [],
   "source": [
    "#Open file and create an image in the BGR color space\n",
    "from PIL import Image\n",
    "import numpy as np\n",
    "import cv2\n",
    "\n",
    "# Load from a file\n",
    "\n",
    "def augmentImage(image_path):\n",
    "    imageFile = image_path\n",
    "    image = Image.open(imageFile)\n",
    "\n",
    "    # Update orientation based on EXIF tags, if the file has orientation info.\n",
    "    image = update_orientation(image)\n",
    "\n",
    "    # Convert to OpenCV format\n",
    "    image = convert_to_opencv(image)\n",
    "\n",
    "    # If the image has either w or h greater than 1600 we resize it down respecting\n",
    "    # aspect ratio such that the largest dimension is 1600\n",
    "    image = resize_down_to_1600_max_dim(image)\n",
    "\n",
    "    # We next get the largest center square\n",
    "    h, w = image.shape[:2]\n",
    "    min_dim = min(w,h)\n",
    "    max_square_image = crop_center(image, min_dim, min_dim)\n",
    "\n",
    "    # Resize that square down to 256x256\n",
    "    augmented_image = resize_to_256_square(max_square_image)\n",
    "\n",
    "    # Get the input size of the model\n",
    "    with tf.compat.v1.Session() as sess:\n",
    "        input_tensor_shape = sess.graph.get_tensor_by_name('Placeholder:0').shape.as_list()\n",
    "    network_input_size = input_tensor_shape[1]\n",
    "\n",
    "    # Crop the center for the specified network_input_Size\n",
    "    augmented_image = crop_center(augmented_image, network_input_size, network_input_size)\n",
    "    return augmented_image"
   ]
  },
  {
   "cell_type": "markdown",
   "metadata": {},
   "source": [
    "# Classify an image\n",
    "Once the image is prepared as a tensor, we can send it through the model for a prediction.\n"
   ]
  },
  {
   "cell_type": "code",
   "execution_count": null,
   "metadata": {},
   "outputs": [],
   "source": [
    "\n",
    "def classify_image(augmented_image):\n",
    "    # These names are part of the model and cannot be changed.\n",
    "    output_layer = 'loss:0'\n",
    "    input_node = 'Placeholder:0'\n",
    "\n",
    "    with tf.compat.v1.Session() as sess:\n",
    "        try:\n",
    "            prob_tensor = sess.graph.get_tensor_by_name(output_layer)\n",
    "            predictions = sess.run(prob_tensor, {input_node: [augmented_image] })\n",
    "        except KeyError:\n",
    "            print (\"Couldn't find classification output layer: \" + output_layer + \".\")\n",
    "            print (\"Verify this a model exported from an Object Detection project.\")\n",
    "            exit(-1)\n",
    "\n",
    "    return predictions"
   ]
  },
  {
   "cell_type": "markdown",
   "metadata": {},
   "source": [
    "# Display the Results\n",
    "The results of running the image tensor through the model will then need to be mapped back to the labels."
   ]
  },
  {
   "cell_type": "code",
   "execution_count": null,
   "metadata": {},
   "outputs": [],
   "source": [
    "import ntpath\n",
    "import csv\n",
    "\n",
    "def display_result(predictions, image_path):\n",
    "    # Print the highest probability label\n",
    "    highest_probability_index = np.argmax(predictions)\n",
    "    print(predictions)\n",
    "    print('Image: ' + ntpath.basename(image_path))\n",
    "    print('Classified as: ' + labels[highest_probability_index]+ '\\n')\n",
    "    with open('results.csv', 'a', encoding='UTF8') as file:\n",
    "        writer = csv.writer(file)\n",
    "        writer.writerow([ntpath.basename(image_path), labels[highest_probability_index]])\n",
    "    \n",
    "    # # Or you can print out all of the results mapping labels to probabilities.\n",
    "    # label_index = 0\n",
    "    # for p in predictions:\n",
    "    #     truncated_probablity = np.float64(np.round(p,8))\n",
    "    #     print (labels[label_index], truncated_probablity)\n",
    "    #     label_index += 1"
   ]
  },
  {
   "cell_type": "markdown",
   "metadata": {},
   "source": [
    "# Bulk Test Images using the below code"
   ]
  },
  {
   "cell_type": "code",
   "execution_count": null,
   "metadata": {},
   "outputs": [],
   "source": [
    "import os\n",
    "import csv\n",
    "\n",
    "# get all images (absolute paths) in folder\n",
    "if(images_folder):\n",
    "    x = [os.path.abspath(os.path.join(images_folder, p)) for p in os.listdir(images_folder) if p.endswith(('jpg'))]\n",
    "\n",
    "    # write to csv\n",
    "    header = ['Image', 'Classification']\n",
    "    with open('results.csv', 'a', encoding='UTF8') as file:\n",
    "        writer = csv.writer(file)\n",
    "        writer.writerow(header)\n",
    "\n",
    "    for image_path in x:\n",
    "        augmented_image = augmentImage(image_path)\n",
    "        predictions = classify_image(augmented_image)\n",
    "        display_result(predictions, image_path)"
   ]
  }
 ],
 "metadata": {
  "kernelspec": {
   "display_name": "Python 3.10.4 64-bit ('3.10.4')",
   "language": "python",
   "name": "python3"
  },
  "language_info": {
   "codemirror_mode": {
    "name": "ipython",
    "version": 3
   },
   "file_extension": ".py",
   "mimetype": "text/x-python",
   "name": "python",
   "nbconvert_exporter": "python",
   "pygments_lexer": "ipython3",
   "version": "3.10.4"
  },
  "orig_nbformat": 4,
  "vscode": {
   "interpreter": {
    "hash": "cf3757e82e934e74a7da0e2e7b6e9843fde75aa572be9616421ae2f9ace56ac2"
   }
  }
 },
 "nbformat": 4,
 "nbformat_minor": 2
}
